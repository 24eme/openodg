{
 "cells": [
  {
   "cell_type": "code",
   "execution_count": null,
   "metadata": {},
   "outputs": [],
   "source": [
    "import pandas as pd\n",
    "import argparse"
   ]
  },
  {
   "cell_type": "code",
   "execution_count": null,
   "metadata": {},
   "outputs": [],
   "source": [
    "campagne = \"2020\"\n",
    "appellation = \"AOC Crémant d'Alsace\"\n",
    "exports_path = \"../../web/exports\"\n",
    "output_path = exports_path + \"/bilan_vci_\"+campagne+\"_aoc_alsace_blanc.csv\"\n",
    "parser = argparse.ArgumentParser()\n",
    "parser.add_argument(\"campagne\", help=\"Année de récolte\", default=campagne, nargs='?')\n",
    "parser.add_argument(\"appellation\", help=\"Libellé de l'appellation\", default=appellation, nargs='?')\n",
    "parser.add_argument(\"exports_path\", help=\"Chemin qui contient les exports\", default=exports_path, nargs='?')\n",
    "parser.add_argument(\"output_path\", help=\"Chemin du fichier de sortie\", default=output_path, nargs='?')\n",
    "\n",
    "try:\n",
    "    args = parser.parse_args()\n",
    "    campagne = args.campagne\n",
    "    appellation = args.appellation\n",
    "    exports_path = args.exports_path\n",
    "    output_path = args.output_path\n",
    "except:\n",
    "    print(\"Arguments pas défaut\")"
   ]
  },
  {
   "cell_type": "code",
   "execution_count": null,
   "metadata": {
    "scrolled": true
   },
   "outputs": [],
   "source": [
    "drev = pd.read_csv(exports_path + \"/drev.csv\", encoding=\"iso8859_15\", delimiter=\";\", decimal=\",\", dtype={'CVI Opérateur': 'str', 'Campagne': 'str'}, low_memory=False)\n",
    "drev_curr = drev.query(\"Campagne == @campagne\").reset_index(drop=True)\n",
    "drev_curr.head(5)"
   ]
  },
  {
   "cell_type": "code",
   "execution_count": null,
   "metadata": {},
   "outputs": [],
   "source": [
    "dr = pd.read_csv(exports_path + \"/\"+ campagne + \"/\" + campagne + \"_dr.csv\", encoding=\"iso8859_15\", delimiter=\";\", decimal=\",\", dtype={'CVI recoltant': 'str'}, low_memory=False)\n",
    "dr = dr.query(\"type_ligne == \\\"total_cave_particuliere\\\" and cepage != \\\"TOTAL\\\" and vtsgn != vtsgn\").reset_index(drop=True)\n",
    "dr[\"Type de ligne\"] = \"Revendication\"\n",
    "dr[\"volume\"].fillna(0)\n",
    "dr[\"volume\"] = dr[\"volume\"].astype(\"float64\")\n",
    "dr[\"superficie totale\"].fillna(0)\n",
    "dr[\"superficie totale\"] = dr[\"superficie totale\"].astype(\"float64\")\n",
    "dr[\"volume total\"].fillna(0)\n",
    "dr[\"volume total\"] = dr[\"volume total\"].astype(\"float64\")\n",
    "dr[\"vci total\"].fillna(0)\n",
    "dr[\"vci total\"] = dr[\"vci total\"].astype(\"float64\")\n",
    "dr[\"Produit\"] = dr[\"appellation\"] + \" \" + dr[\"lieu\"].fillna(\"\") + \" \" + dr[\"cepage\"].fillna(\"\")\n",
    "dr[\"Produit\"] = dr[\"Produit\"].replace(regex=r'TOTAL', value='')\n",
    "dr[\"Produit\"] = dr[\"Produit\"].replace(regex=r'[ ]+', value=' ')\n",
    "dr[\"Produit\"] = dr[\"Produit\"].replace(regex=r'[ ]+$', value='')\n",
    "dr[\"Produit\"] = dr[\"Produit\"].replace(regex=r'Cremant', value='Crémant')\n",
    "dr[\"Produit\"] = dr[\"Produit\"].replace(regex=r'Gewurztraminer', value='Gewurzt.')\n",
    "dr[\"Produit\"] = dr[\"Produit\"].replace(regex=r'Assemblage', value='Assemblage/Edelzwicker')\n",
    "dr[\"CVI Opérateur\"] = dr[\"CVI recoltant\"]\n",
    "\n",
    "dr.head(10)"
   ]
  },
  {
   "cell_type": "code",
   "execution_count": null,
   "metadata": {},
   "outputs": [],
   "source": [
    "drev_dr_curr = pd.merge(drev_curr, dr,  how='outer', on=['CVI Opérateur', 'Produit', 'Type de ligne'])\n",
    "drev_dr_curr.head(100)"
   ]
  },
  {
   "cell_type": "code",
   "execution_count": null,
   "metadata": {},
   "outputs": [],
   "source": [
    "campagne_prev = str(int(campagne) - 1)\n",
    "vci = pd.read_csv(exports_path + \"/registre_vci.csv\", encoding=\"iso8859_15\", delimiter=\";\", decimal=\",\", dtype={'CVI': 'str', 'SIRET': 'str', 'Produit': 'str', 'Campagne': 'str'}, low_memory=False)\n",
    "vci['CVI Opérateur'] = vci['CVI']\n",
    "vci_curr = vci.query(\"Campagne == @campagne\").reset_index(drop=True)\n",
    "vci_prev = vci.query(\"Campagne == @campagne_prev\").reset_index(drop=True)\n",
    "infos = pd.concat([vci_curr,vci_prev], ignore_index=True)"
   ]
  },
  {
   "cell_type": "code",
   "execution_count": null,
   "metadata": {},
   "outputs": [],
   "source": [
    "vci_curr.head(5)"
   ]
  },
  {
   "cell_type": "code",
   "execution_count": null,
   "metadata": {},
   "outputs": [],
   "source": [
    "vci_curr.columns.tolist()"
   ]
  },
  {
   "cell_type": "code",
   "execution_count": null,
   "metadata": {},
   "outputs": [],
   "source": [
    "vci_curr[vci_curr['Produit'].str.contains(appellation)]"
   ]
  },
  {
   "cell_type": "code",
   "execution_count": null,
   "metadata": {},
   "outputs": [],
   "source": [
    "vci_curr_total_group = vci_curr[vci_curr['Produit'].str.contains(appellation)].iloc[:,[18,8,11,12,13,14,15,16,17]].groupby(['CVI Opérateur']).agg('sum').reset_index()\n",
    "vci_curr_total_group['Produit'] = appellation\n",
    "vci_curr_group = vci_curr[vci_curr['Produit'].str.contains(appellation)].iloc[:,[18,8,11,12,13,14,15,16,17]].groupby(['CVI Opérateur', 'Produit']).agg('sum').reset_index()\n",
    "vci_curr_group = pd.concat([vci_curr_group, vci_curr_total_group], ignore_index=True)\n",
    "vci_prev_total_group = vci_prev[vci_prev['Produit'].str.contains(appellation)].iloc[:,[18,8,11,12,13,14,15,16,17]].groupby(['CVI Opérateur']).agg('sum').reset_index()\n",
    "vci_prev_total_group['Produit'] = appellation\n",
    "vci_prev_group = vci_prev[vci_prev['Produit'].str.contains(appellation)].iloc[:,[18,8,11,12,13,14,15,16,17]].groupby(['CVI Opérateur', 'Produit']).agg('sum').reset_index()\n",
    "vci_prev_group = pd.concat([vci_prev_group, vci_prev_total_group], ignore_index=True)"
   ]
  },
  {
   "cell_type": "code",
   "execution_count": null,
   "metadata": {},
   "outputs": [],
   "source": [
    "vci_curr_group.head()"
   ]
  },
  {
   "cell_type": "code",
   "execution_count": null,
   "metadata": {},
   "outputs": [],
   "source": [
    "vci_curr_group.describe()"
   ]
  },
  {
   "cell_type": "code",
   "execution_count": null,
   "metadata": {},
   "outputs": [],
   "source": [
    "vci_prev_group.head()"
   ]
  },
  {
   "cell_type": "code",
   "execution_count": null,
   "metadata": {},
   "outputs": [],
   "source": [
    "vci_prev_group.describe()"
   ]
  },
  {
   "cell_type": "code",
   "execution_count": null,
   "metadata": {},
   "outputs": [],
   "source": [
    "registres = pd.merge(vci_prev_group, vci_curr_group,  how='outer', on=['CVI Opérateur', 'Produit'])"
   ]
  },
  {
   "cell_type": "code",
   "execution_count": null,
   "metadata": {},
   "outputs": [],
   "source": [
    "registres.head()"
   ]
  },
  {
   "cell_type": "code",
   "execution_count": null,
   "metadata": {},
   "outputs": [],
   "source": [
    "registres.describe()"
   ]
  },
  {
   "cell_type": "code",
   "execution_count": null,
   "metadata": {},
   "outputs": [],
   "source": [
    "type_ligne=\"Revendication\" \n",
    "drev_dr_curr['type_ligne'] = drev_dr_curr['Type de ligne']\n",
    "drev_dr_curr[drev_dr_curr.Produit.str.contains(appellation)].query(\"type_ligne == @type_ligne\")"
   ]
  },
  {
   "cell_type": "code",
   "execution_count": null,
   "metadata": {},
   "outputs": [],
   "source": [
    "drev_curr_group = drev_dr_curr[drev_dr_curr.Produit.str.contains(appellation)].query(\"type_ligne == @type_ligne\").iloc[:,[1,9,10,11,12,13,32,33,36]].reset_index(drop=True)"
   ]
  },
  {
   "cell_type": "code",
   "execution_count": null,
   "metadata": {},
   "outputs": [],
   "source": [
    "drev_curr_group.head()"
   ]
  },
  {
   "cell_type": "code",
   "execution_count": null,
   "metadata": {},
   "outputs": [],
   "source": [
    "drev_curr_group.describe()"
   ]
  },
  {
   "cell_type": "code",
   "execution_count": null,
   "metadata": {},
   "outputs": [],
   "source": [
    "bilan = pd.merge(registres, drev_curr_group, how='left', on=['CVI Opérateur', 'Produit'])"
   ]
  },
  {
   "cell_type": "code",
   "execution_count": null,
   "metadata": {},
   "outputs": [],
   "source": [
    "infos[\"CVI Opérateur\"] = infos[\"CVI\"]\n",
    "infos.head()"
   ]
  },
  {
   "cell_type": "code",
   "execution_count": null,
   "metadata": {},
   "outputs": [],
   "source": [
    "infos_unique = infos.reindex(columns=[\"CVI Opérateur\", \"SIRET\", \"Raison sociale\", \"Adresse\", \"Code postal\", \"Commune\"]).drop_duplicates().reset_index(drop=True);"
   ]
  },
  {
   "cell_type": "code",
   "execution_count": null,
   "metadata": {},
   "outputs": [],
   "source": [
    "infos_unique.head()"
   ]
  },
  {
   "cell_type": "code",
   "execution_count": null,
   "metadata": {},
   "outputs": [],
   "source": [
    "bilan_infos = pd.merge(bilan, infos_unique, how='left', on='CVI Opérateur')"
   ]
  },
  {
   "cell_type": "code",
   "execution_count": null,
   "metadata": {},
   "outputs": [],
   "source": [
    "bilan_infos.head()"
   ]
  },
  {
   "cell_type": "code",
   "execution_count": null,
   "metadata": {},
   "outputs": [],
   "source": [
    "bilan_infos.describe()"
   ]
  },
  {
   "cell_type": "code",
   "execution_count": null,
   "metadata": {},
   "outputs": [],
   "source": [
    "bilan_infos['campagne'] = campagne\n",
    "bilan_infos['appellation'] = appellation\n",
    "bilan_infos['CVI'] = bilan_infos[\"CVI Opérateur\"]\n",
    "bilan_infos['titre'] = \"\"\n",
    "bilan_infos['raison_sociale'] = bilan_infos[\"Raison sociale\"]\n",
    "bilan_infos['adresse'] = bilan_infos[\"Adresse\"]\n",
    "bilan_infos['commune'] = bilan_infos[\"Commune\"]\n",
    "bilan_infos['code_postal'] = bilan_infos[\"Code postal\"]\n",
    "bilan_infos['siret'] = bilan_infos[\"SIRET\"]\n",
    "bilan_infos['stock_vci_n-1'] = round(bilan_infos[\"Constitue_x\"].fillna(0) + bilan_infos[\"Stock précédent_x\"].fillna(0), 2)\n",
    "bilan_infos['dr_surface'] = bilan_infos[\"superficie totale\"]\n",
    "bilan_infos['dr_volume'] = bilan_infos[\"volume total\"]\n",
    "bilan_infos['dr_vci'] = bilan_infos[\"vci total\"]\n",
    "bilan_infos['vci_constitue'] = round(bilan_infos[\"Constitue_y\"].fillna(0), 2)\n",
    "bilan_infos['vci_complement'] = bilan_infos[\"Complément_x\"]\n",
    "bilan_infos['vci_substitution'] = bilan_infos[\"Substitution_x\"]\n",
    "bilan_infos['vci_rafraichi'] = bilan_infos[\"Rafraichi_x\"]\n",
    "bilan_infos['vci_desctruction'] = bilan_infos[\"Destruction_x\"]\n",
    "bilan_infos['drev_revendique_n'] = round(bilan_infos[\"Volume revendiqué\"].fillna(0) - bilan_infos[\"Volume revendiqué issu du VCI\"].fillna(0), 2)\n",
    "bilan_infos['drev_revendique_n-1'] = bilan_infos[\"Volume revendiqué issu du VCI\"]\n",
    "bilan_infos['stock_vci_n'] = round(bilan_infos[\"Stock_y\"].fillna(0), 2)\n",
    "bilan_infos['rendement_vci_ha_hl'] = round((bilan_infos['vci_rafraichi'] + bilan_infos['vci_constitue']) / bilan_infos['dr_surface'] * 100, 2)"
   ]
  },
  {
   "cell_type": "code",
   "execution_count": null,
   "metadata": {},
   "outputs": [],
   "source": [
    "bilan_infos = bilan_infos.reset_index(drop=True);\n",
    "bilan_final = bilan_infos.sort_values(['campagne', 'CVI', 'Produit']).reindex(columns=[\"campagne\",\"Produit\",\"titre\", \"raison_sociale\", \"adresse\", \"commune\", \"code_postal\", \"CVI\", \"siret\", \"stock_vci_n-1\", \"dr_surface\", \"dr_volume\", \"dr_vci\", \"vci_constitue\", \"vci_complement\", \"vci_substitution\", \"vci_rafraichi\", \"vci_desctruction\", \"drev_revendique_n\", \"drev_revendique_n-1\", \"stock_vci_n\", \"rendement_vci_ha_hl\"]).drop_duplicates().reset_index(drop=True);"
   ]
  },
  {
   "cell_type": "code",
   "execution_count": null,
   "metadata": {},
   "outputs": [],
   "source": [
    "bilan_final.describe()"
   ]
  },
  {
   "cell_type": "code",
   "execution_count": null,
   "metadata": {},
   "outputs": [],
   "source": [
    "bilan_final.head(100)"
   ]
  },
  {
   "cell_type": "code",
   "execution_count": null,
   "metadata": {},
   "outputs": [],
   "source": [
    "bilan_final.to_csv(output_path, encoding=\"iso8859_15\", sep=\";\", index=False, decimal=\",\")"
   ]
  }
 ],
 "metadata": {
  "kernelspec": {
   "display_name": "Python 3",
   "language": "python",
   "name": "python3"
  },
  "language_info": {
   "codemirror_mode": {
    "name": "ipython",
    "version": 3
   },
   "file_extension": ".py",
   "mimetype": "text/x-python",
   "name": "python",
   "nbconvert_exporter": "python",
   "pygments_lexer": "ipython3",
   "version": "3.9.2"
  }
 },
 "nbformat": 4,
 "nbformat_minor": 2
}
